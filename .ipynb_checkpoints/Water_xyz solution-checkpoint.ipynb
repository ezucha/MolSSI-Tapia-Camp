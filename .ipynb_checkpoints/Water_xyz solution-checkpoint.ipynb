{
 "cells": [
  {
   "cell_type": "markdown",
   "metadata": {},
   "source": [
    "## Geometry Analysis Project"
   ]
  },
  {
   "cell_type": "code",
   "execution_count": 1,
   "metadata": {},
   "outputs": [],
   "source": [
    "import os\n",
    "import numpy"
   ]
  },
  {
   "cell_type": "code",
   "execution_count": 16,
   "metadata": {},
   "outputs": [],
   "source": [
    "#def function_name(parameters):\n",
    "    #*** code goes here ***\n",
    "    #return value_to_return"
   ]
  },
  {
   "cell_type": "code",
   "execution_count": 20,
   "metadata": {},
   "outputs": [],
   "source": [
    "def calculate_distance(coords1,coords2):\n",
    "    \"\"\"\n",
    "    This function has two arguments, the coordinates of two atoms. It returns the distance between atoms.\n",
    "    \"\"\"\n",
    "    x_distance = coords1[0]-coords2[0]\n",
    "    y_distance = coords1[1]-coords2[1]\n",
    "    z_distance = coords1[2]-coords2[2]\n",
    "    distance_12 = numpy.sqrt(x_distance**2+y_distance**2+z_distance**2)\n",
    "    return distance_12"
   ]
  },
  {
   "cell_type": "code",
   "execution_count": 42,
   "metadata": {},
   "outputs": [],
   "source": [
    "def bond_check(distance,minimum=0,maximum=1.5):\n",
    "    \"\"\"\n",
    "    Checks a distance to see if it's a bond. User specifies minimum and maximum values for bond.\n",
    "    \"\"\"\n",
    "    if distance>minimum and distance<maximum:\n",
    "        return True\n",
    "    else:\n",
    "        return False\n",
    "#take one input: a distance\n",
    "#if it is a bond, return the word true and if not the word false\n",
    "#extra time: put it into below cell"
   ]
  },
  {
   "cell_type": "code",
   "execution_count": 43,
   "metadata": {},
   "outputs": [
    {
     "name": "stdout",
     "output_type": "stream",
     "text": [
      "H1 to O:0.969\n",
      "H2 to O:0.969\n"
     ]
    }
   ],
   "source": [
    "file_location = os.path.join('water.xyz')\n",
    "xyz_file = numpy.genfromtxt(fname=file_location, delimiter='', dtype='unicode', skip_header=2)\n",
    "symbols = xyz_file[:,0]\n",
    "coordinates = xyz_file[:,1:]\n",
    "#print(symbols)\n",
    "#print(coordinates)\n",
    "coordinates = coordinates.astype(numpy.float)\n",
    "num_atoms = len(symbols)\n",
    "for num1 in range(0, num_atoms):\n",
    "    for num2 in range(0, num_atoms):\n",
    "        if num1>num2:\n",
    "            distance_12 = calculate_distance(coordinates[num1], coordinates[num2])\n",
    "            #x_distance = coordinates[num1,0]-coordinates[num2,0]             TAKEN AWAY WHEN WE MADE THE\n",
    "            #y_distance = coordinates[num1,1]-coordinates[num2,1]                   DISTANCE FUNCTION\n",
    "            #z_distance = coordinates[num1,2]-coordinates[num2,2]\n",
    "            #distance_12 = numpy.sqrt(x_distance**2+y_distance**2+z_distance**2)\n",
    "           #if distance_12<1:   (TAKEN AWAY BECAUSE OF BOND_CHECK)\n",
    "            if bond_check(distance_12) is True:\n",
    "                print(F'{symbols[num1]} to {symbols[num2]}:{distance_12:.3f}') #.3f shortens the decimal places"
   ]
  },
  {
   "cell_type": "code",
   "execution_count": null,
   "metadata": {},
   "outputs": [],
   "source": []
  }
 ],
 "metadata": {
  "kernelspec": {
   "display_name": "Python 3",
   "language": "python",
   "name": "python3"
  },
  "language_info": {
   "codemirror_mode": {
    "name": "ipython",
    "version": 3
   },
   "file_extension": ".py",
   "mimetype": "text/x-python",
   "name": "python",
   "nbconvert_exporter": "python",
   "pygments_lexer": "ipython3",
   "version": "3.7.3"
  }
 },
 "nbformat": 4,
 "nbformat_minor": 2
}
